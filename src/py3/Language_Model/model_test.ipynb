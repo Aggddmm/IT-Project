{
 "cells": [
  {
   "cell_type": "code",
   "execution_count": null,
   "metadata": {},
   "outputs": [],
   "source": [
    "# import all necessary libraries\n",
    "\n",
    "from transformers import AutoTokenizer, AutoConfig\n",
    "from transformers import AutoModelForCausalLM\n",
    "from safetensors.torch import load_file\n",
    "import torch\n",
    "import os"
   ]
  },
  {
   "cell_type": "code",
   "execution_count": 2,
   "metadata": {},
   "outputs": [],
   "source": [
    "MODEL_DIR_PREFIX = \"gemma-2-2b-it\"\n",
    "# MODEL_SIZE = \"2b\"\n",
    "# MODEL_DIR_SUFFIX = \"-it\"\n",
    "MODEL_SIZE = \"\"\n",
    "MODEL_DIR_SUFFIX = \"\""
   ]
  },
  {
   "cell_type": "code",
   "execution_count": null,
   "metadata": {},
   "outputs": [],
   "source": [
    "# check what device is avaliable to run torch\n",
    "message:str = \"[+] Running Torch over \"\n",
    "if torch.cuda.is_available():\n",
    "    message += \"CUDA\"\n",
    "    device = torch.device(\"cuda\")\n",
    "    #TODO: set torch over CUDA\n",
    "elif torch.backends.mps.is_available():\n",
    "    device = torch.device(\"mps\")\n",
    "    message += \"MPS\"\n",
    "else:\n",
    "    device = torch.device(\"cpu\")\n",
    "    message += \"CPU\"\n",
    "print(message)"
   ]
  },
  {
   "cell_type": "code",
   "execution_count": 4,
   "metadata": {},
   "outputs": [],
   "source": [
    "# Load essentials for the model\n",
    "model_path = \"./\" + MODEL_DIR_PREFIX + MODEL_SIZE + MODEL_DIR_SUFFIX\n",
    "\n",
    "config = AutoConfig.from_pretrained(model_path + \"/config.json\")\n",
    "\n",
    "tokenizer = AutoTokenizer.from_pretrained(model_path)\n",
    "\n",
    "file_paths:list = [x for x in os.listdir(model_path) if ('.safetensor' in x) and ('model-' in x)]\n",
    "\n",
    "# Load each file and update the state_dict\n",
    "state_dict = {}\n",
    "for file_path in file_paths:\n",
    "    part_state_dict = load_file(model_path + '/' + file_path)\n",
    "    state_dict.update(part_state_dict)"
   ]
  },
  {
   "cell_type": "code",
   "execution_count": null,
   "metadata": {},
   "outputs": [],
   "source": [
    "# Instantiate the model\n",
    "model = AutoModelForCausalLM.from_pretrained(\n",
    "    pretrained_model_name_or_path=None,  # Since we're loading from state_dict, this is None\n",
    "    config=config,\n",
    "    state_dict=state_dict,\n",
    "    torch_dtype=torch.bfloat16\n",
    ")\n",
    "model.to(device)"
   ]
  },
  {
   "cell_type": "code",
   "execution_count": null,
   "metadata": {},
   "outputs": [],
   "source": [
    "# Tokenize the input text\n",
    "input_text = \"\"\"\n",
    "\\nRequirment:\\n\n",
    " - Use **Chatting Tone** to chat.\\n\n",
    " - Provide **Brief** response.\\n\n",
    " \n",
    "\\nUser: What can you do?.\n",
    "\\nChatbot: \n",
    "\"\"\"\n",
    "\n",
    "def generate_text(text:str):\n",
    "    input_ids = tokenizer(text, return_tensors=\"pt\").to(device)\n",
    "    outputs = model.generate(\n",
    "        **input_ids,\n",
    "        max_new_tokens=150,  # You can adjust this based on your needs\n",
    "        eos_token_id=tokenizer.eos_token_id,  # Stops when EOS token is generated\n",
    "        pad_token_id=tokenizer.eos_token_id,  # Optionally set padding token to EOS\n",
    "        # add randomnes to the output\n",
    "        do_sample=True,\n",
    "        temperature=0.7,\n",
    "    )\n",
    "    return tokenizer.decode(outputs[0], skip_special_tokens=True)\n",
    "\n",
    "print(generate_text(input_text))"
   ]
  }
 ],
 "metadata": {
  "kernelspec": {
   "display_name": "MPS-Torch",
   "language": "python",
   "name": "python3"
  },
  "language_info": {
   "codemirror_mode": {
    "name": "ipython",
    "version": 3
   },
   "file_extension": ".py",
   "mimetype": "text/x-python",
   "name": "python",
   "nbconvert_exporter": "python",
   "pygments_lexer": "ipython3",
   "version": "3.12.4"
  }
 },
 "nbformat": 4,
 "nbformat_minor": 2
}
