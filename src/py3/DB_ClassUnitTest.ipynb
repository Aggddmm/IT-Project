{
 "cells": [
  {
   "cell_type": "code",
   "execution_count": 1,
   "metadata": {},
   "outputs": [],
   "source": [
    "from database_mgr import DatabaseQABackend"
   ]
  },
  {
   "cell_type": "code",
   "execution_count": 2,
   "metadata": {},
   "outputs": [],
   "source": [
    "db = DatabaseQABackend(db_path='Database_Proto/HistoricalQA_DB.sqlite3')"
   ]
  },
  {
   "cell_type": "code",
   "execution_count": 4,
   "metadata": {},
   "outputs": [
    {
     "name": "stdout",
     "output_type": "stream",
     "text": [
      "The Renaissance was a period of cultural, artistic, political, and economic rebirth in Europe following the Middle Ages.\n",
      "The Renaissance was a period of cultural, artistic, political, and economic rebirth in Europe following the Middle Ages.\n",
      "The Renaissance is credited with bridging the gap between the Middle Ages and modern civilization.\n",
      "The Renaissance is credited with bridging the gap between the Middle Ages and modern civilization.\n",
      "The Renaissance era ended as Europe entered a period of political and religious upheaval, known as the Reformation.\n"
     ]
    }
   ],
   "source": [
    "user_answer = \"What happened in Europe in middle ages?\"\n",
    "\n",
    "for item in db.get_answer(user_answer):\n",
    "    print(item)"
   ]
  }
 ],
 "metadata": {
  "kernelspec": {
   "display_name": "MPS-Torch",
   "language": "python",
   "name": "python3"
  },
  "language_info": {
   "codemirror_mode": {
    "name": "ipython",
    "version": 3
   },
   "file_extension": ".py",
   "mimetype": "text/x-python",
   "name": "python",
   "nbconvert_exporter": "python",
   "pygments_lexer": "ipython3",
   "version": "3.12.4"
  }
 },
 "nbformat": 4,
 "nbformat_minor": 2
}
