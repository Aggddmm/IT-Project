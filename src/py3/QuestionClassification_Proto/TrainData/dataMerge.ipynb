{
 "cells": [
  {
   "cell_type": "code",
   "execution_count": 1,
   "metadata": {},
   "outputs": [],
   "source": [
    "import pandas as pd"
   ]
  },
  {
   "cell_type": "code",
   "execution_count": 2,
   "metadata": {},
   "outputs": [],
   "source": [
    "# open all json with pandas\n",
    "df1 = pd.read_json('otherQuestion_How.json')\n",
    "df2 = pd.read_json('otherQuestion_What.json')\n",
    "df3 = pd.read_json('otherQuestion_When.json')\n",
    "df4 = pd.read_json('otherQuestion_Where.json')\n",
    "df5 = pd.read_json('otherQuestion_Why.json')\n",
    "df6 = pd.read_json('otherQuestion_Who.json')"
   ]
  },
  {
   "cell_type": "code",
   "execution_count": 6,
   "metadata": {},
   "outputs": [
    {
     "name": "stdout",
     "output_type": "stream",
     "text": [
      "              type                                          questions\n",
      "0    otherQuestion                            How are you doing today\n",
      "1    otherQuestion                  How many steps did you take today\n",
      "2    otherQuestion                       How did you sleep last night\n",
      "3    otherQuestion                              How is your day going\n",
      "4    otherQuestion                       How is your day going so far\n",
      "..             ...                                                ...\n",
      "296  otherQuestion                         Who are you watching today\n",
      "297  otherQuestion  Who is going to be in charge of the afternoon ...\n",
      "298  otherQuestion                Who is going to cook dinner tonight\n",
      "299  otherQuestion                 Who are you spending your day with\n",
      "300  otherQuestion                       Who woke you up this morning\n",
      "\n",
      "[301 rows x 2 columns]\n"
     ]
    }
   ],
   "source": [
    "# merge all json into otherQuestion.json\n",
    "json_data = pd.concat([df1, df2, df3, df4, df5, df6], ignore_index=True)\n",
    "print(json_data)"
   ]
  },
  {
   "cell_type": "code",
   "execution_count": 36,
   "metadata": {},
   "outputs": [],
   "source": [
    "all_train_data = pd.read_excel(\"historical_data.xlsx\")\n",
    "# merge all json with excel\n",
    "for entry in json_data.iterrows():\n",
    "    # all_train_data = pd.concat(objs=all_train_data, keys={\"Question\": entry[1][\"questions\"], \"Type\": entry[1][\"type\"]})\n",
    "    new_row = {'Question': entry[1]['questions'], 'Type': entry[1]['type']}\n",
    "    all_train_data = pd.concat([all_train_data, pd.DataFrame([new_row])], ignore_index=True)"
   ]
  },
  {
   "cell_type": "code",
   "execution_count": 38,
   "metadata": {},
   "outputs": [
    {
     "name": "stdout",
     "output_type": "stream",
     "text": [
      "                                               Question                Type\n",
      "0     What was the primary tool material used during...  historicalQuestion\n",
      "1     Which hominid species is believed to have firs...  historicalQuestion\n",
      "2     What major development marks the transition fr...  historicalQuestion\n",
      "3     Where did the first known agricultural societi...  historicalQuestion\n",
      "4     What were the key characteristics of Neolithic...  historicalQuestion\n",
      "...                                                 ...                 ...\n",
      "1669                         Who are you watching today       otherQuestion\n",
      "1670  Who is going to be in charge of the afternoon ...       otherQuestion\n",
      "1671                Who is going to cook dinner tonight       otherQuestion\n",
      "1672                 Who are you spending your day with       otherQuestion\n",
      "1673                       Who woke you up this morning       otherQuestion\n",
      "\n",
      "[1674 rows x 2 columns]\n"
     ]
    }
   ],
   "source": [
    "print(all_train_data)\n",
    "# save to excel\n",
    "all_train_data.to_excel(\"QuestionClassificationDataset.xlsx\", index=False)"
   ]
  }
 ],
 "metadata": {
  "kernelspec": {
   "display_name": "Python 3",
   "language": "python",
   "name": "python3"
  },
  "language_info": {
   "codemirror_mode": {
    "name": "ipython",
    "version": 3
   },
   "file_extension": ".py",
   "mimetype": "text/x-python",
   "name": "python",
   "nbconvert_exporter": "python",
   "pygments_lexer": "ipython3",
   "version": "3.10.13"
  }
 },
 "nbformat": 4,
 "nbformat_minor": 2
}
