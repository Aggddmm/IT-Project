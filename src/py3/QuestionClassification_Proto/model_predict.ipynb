{
 "cells": [
  {
   "cell_type": "code",
   "execution_count": 1,
   "metadata": {},
   "outputs": [],
   "source": [
    "import spacy\n",
    "import joblib"
   ]
  },
  {
   "cell_type": "code",
   "execution_count": 2,
   "metadata": {},
   "outputs": [],
   "source": [
    "# Function definition\n",
    "\n",
    "# Text preprocessing function\n",
    "def preprocess_text(text):\n",
    "    # Normalize text\n",
    "    processed_text = text.lower()\n",
    "    processed_text = processed_text.replace('?', '')\n",
    "    # lemmatization\n",
    "    nlp = spacy.load('en_core_web_sm')\n",
    "    doc = nlp(processed_text)\n",
    "    processed_text = ' '.join([token.lemma_ for token in doc])\n",
    "    \n",
    "    return processed_text\n",
    "\n",
    "def predict_question_type(text, model, vectorizer):\n",
    "    processed_text = preprocess_text(text)\n",
    "    # Vectorize text\n",
    "    vectorized_text = vectorizer.transform([processed_text])\n",
    "    # Predict\n",
    "    prediction = model.predict(vectorized_text)\n",
    "    return prediction[0]\n"
   ]
  },
  {
   "cell_type": "code",
   "execution_count": 4,
   "metadata": {},
   "outputs": [],
   "source": [
    "# load model\n",
    "model = joblib.load('question_classifier_knn.pkl')\n",
    "vectorizer = joblib.load('vectorizer.joblib')"
   ]
  },
  {
   "cell_type": "code",
   "execution_count": 5,
   "metadata": {},
   "outputs": [
    {
     "name": "stdout",
     "output_type": "stream",
     "text": [
      "historicalQuestion\n"
     ]
    }
   ],
   "source": [
    "# Use Model to predict Question Type\n",
    "new_question = \"Who was the first president of the United States?\"\n",
    "print(predict_question_type(new_question, model, vectorizer))"
   ]
  }
 ],
 "metadata": {
  "kernelspec": {
   "display_name": "Python 3",
   "language": "python",
   "name": "python3"
  },
  "language_info": {
   "codemirror_mode": {
    "name": "ipython",
    "version": 3
   },
   "file_extension": ".py",
   "mimetype": "text/x-python",
   "name": "python",
   "nbconvert_exporter": "python",
   "pygments_lexer": "ipython3",
   "version": "3.10.13"
  }
 },
 "nbformat": 4,
 "nbformat_minor": 2
}
