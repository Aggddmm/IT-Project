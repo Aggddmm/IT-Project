{
 "cells": [
  {
   "cell_type": "code",
   "execution_count": 1,
   "metadata": {},
   "outputs": [],
   "source": [
    "import sqlite3\n",
    "import pandas as pd\n",
    "from transformers import AutoTokenizer, AutoModel\n",
    "import json"
   ]
  },
  {
   "cell_type": "code",
   "execution_count": 2,
   "metadata": {},
   "outputs": [],
   "source": [
    "SQLITE_DB_PATH = \"HistoricalQA_DB.sqlite3\""
   ]
  },
  {
   "cell_type": "code",
   "execution_count": 5,
   "metadata": {},
   "outputs": [],
   "source": [
    "# Connect to SQLite database\n",
    "conn = sqlite3.connect(SQLITE_DB_PATH)\n",
    "cursor = conn.cursor()\n",
    "\n",
    "# Read answers from json file\n",
    "answers = open(\"all_answers.json\", \"r\")\n",
    "answers = json.load(answers)\n",
    "\n",
    "# load model for calculating sentence embeddings\n",
    "tokenizer = AutoTokenizer.from_pretrained('/Users/lipeihong/Desktop/all-MiniLM-L6-v2')\n",
    "model = AutoModel.from_pretrained('/Users/lipeihong/Desktop/all-MiniLM-L6-v2')\n"
   ]
  },
  {
   "cell_type": "code",
   "execution_count": 34,
   "metadata": {},
   "outputs": [],
   "source": [
    "# Function to calculate sentence embeddings in bytes\n",
    "def get_wordvector(text):\n",
    "    inputs = tokenizer(text, return_tensors=\"pt\")\n",
    "    model_out = model(**inputs)\n",
    "    embeddings = model_out.last_hidden_state[:, 0, :]\n",
    "    embeddings_np = embeddings.detach().numpy()\n",
    "    return embeddings_np.tobytes()"
   ]
  },
  {
   "cell_type": "code",
   "execution_count": 38,
   "metadata": {},
   "outputs": [],
   "source": [
    "# append the answers as well as it's characteristic(embedding) to the database\n",
    "for answer in answers:\n",
    "    vector = get_wordvector(answer)\n",
    "    # add the answer to the database\n",
    "    cursor.execute(\"INSERT INTO HistoricalQA (answer_text) VALUES (?)\", (answer,))\n",
    "    answer_id = cursor.lastrowid\n",
    "    # add the embedding to the database\n",
    "    cursor.execute(\"INSERT INTO answer_embeddings (answer_id, embedding) VALUES (?, ?)\",\n",
    "                   (answer_id, vector))"
   ]
  },
  {
   "cell_type": "code",
   "execution_count": null,
   "metadata": {},
   "outputs": [],
   "source": [
    "# Save (commit) the changes and close the connection\n",
    "conn.commit()\n",
    "conn.close()"
   ]
  }
 ],
 "metadata": {
  "kernelspec": {
   "display_name": "SQLite_utils",
   "language": "python",
   "name": "python3"
  },
  "language_info": {
   "codemirror_mode": {
    "name": "ipython",
    "version": 3
   },
   "file_extension": ".py",
   "mimetype": "text/x-python",
   "name": "python",
   "nbconvert_exporter": "python",
   "pygments_lexer": "ipython3",
   "version": "3.12.4"
  }
 },
 "nbformat": 4,
 "nbformat_minor": 2
}
